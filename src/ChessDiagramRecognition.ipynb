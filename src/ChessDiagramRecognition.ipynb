{
  "nbformat": 4,
  "nbformat_minor": 0,
  "metadata": {
    "colab": {
      "name": "ChessDiagramRecognition.ipynb",
      "provenance": [],
      "collapsed_sections": [],
      "toc_visible": true
    },
    "kernelspec": {
      "name": "python3",
      "display_name": "Python 3"
    },
    "accelerator": "GPU"
  },
  "cells": [
    {
      "cell_type": "markdown",
      "metadata": {
        "id": "xSfPpusITvzf",
        "colab_type": "text"
      },
      "source": [
        "# Load squares.csv"
      ]
    },
    {
      "cell_type": "code",
      "metadata": {
        "id": "jxAL0hyuvoZG",
        "colab_type": "code",
        "colab": {}
      },
      "source": [
        "from google.colab import drive\n",
        "drive.mount(\"/content/drive\")"
      ],
      "execution_count": null,
      "outputs": []
    },
    {
      "cell_type": "code",
      "metadata": {
        "id": "2iCfHaGmMhE1",
        "colab_type": "code",
        "colab": {}
      },
      "source": [
        "import numpy as np\n",
        "\n",
        "squares_path = \"/content/drive/My Drive/ChessDiagramRecognition/squares.csv\"\n",
        "data = np.genfromtxt(squares_path, delimiter=\",\")\n",
        "\n",
        "print(data.shape)"
      ],
      "execution_count": null,
      "outputs": []
    },
    {
      "cell_type": "code",
      "metadata": {
        "id": "yoIsC-ddyZ_n",
        "colab_type": "code",
        "colab": {}
      },
      "source": [
        "ids_map = {\n",
        "  \"black_square\": {\n",
        "    \"empty\": 0,\n",
        "    \"black_pawn\": 1,\n",
        "    \"black_rook\": 2,\n",
        "    \"black_knight\": 3,\n",
        "    \"black_bishop\": 4,\n",
        "    \"black_queen\": 5,\n",
        "    \"black_king\": 6,\n",
        "    \"white_pawn\": 7,\n",
        "    \"white_rook\": 8,\n",
        "    \"white_knight\": 9,\n",
        "    \"white_bishop\": 10,\n",
        "    \"white_queen\": 11,\n",
        "    \"white_king\": 12\n",
        "  },\n",
        "  \"white_square\": {\n",
        "    \"empty\": 13,\n",
        "    \"black_pawn\": 14,\n",
        "    \"black_rook\": 15,\n",
        "    \"black_knight\": 16,\n",
        "    \"black_bishop\": 17,\n",
        "    \"black_queen\": 18,\n",
        "    \"black_king\": 19,\n",
        "    \"white_pawn\": 20,\n",
        "    \"white_rook\": 21,\n",
        "    \"white_knight\": 22,\n",
        "    \"white_bishop\": 23,\n",
        "    \"white_queen\": 24,\n",
        "    \"white_king\": 25\n",
        "  }\n",
        "}\n",
        "\n",
        "def get_id_to_square_dict() -> dict:\n",
        "    result = {}\n",
        "    squares_ids = ids_map\n",
        "    for square_color, pieces in squares_ids.items():\n",
        "        for piece, piece_id in pieces.items():\n",
        "            result[piece_id] = square_color + \"_\" + piece\n",
        "\n",
        "    return result\n",
        "\n",
        "ids_dict = get_id_to_square_dict()"
      ],
      "execution_count": null,
      "outputs": []
    },
    {
      "cell_type": "code",
      "metadata": {
        "id": "SPD5cIYjO6k7",
        "colab_type": "code",
        "colab": {}
      },
      "source": [
        "# Plot random examples\n",
        "\n",
        "import glob\n",
        "import matplotlib.pyplot as plt\n",
        "import matplotlib.image as mpimg\n",
        "%matplotlib inline\n",
        "\n",
        "def plot_random_examples(param_data, plot_h=5, plot_w=5):\n",
        "  figure = plt.figure(figsize=(plot_h,plot_w))\n",
        "\n",
        "  for i in range(plot_h * plot_w):\n",
        "    sub = figure.add_subplot(plot_h, plot_w, i + 1)\n",
        "    random_id = np.random.randint(param_data.shape[0])\n",
        "    image = param_data[random_id, 1:].reshape(32, 32)\n",
        "    sub.imshow(image, cmap=\"gray\")\n",
        "    plt.axis(\"off\")\n",
        "\n",
        "def plot_random_example_with_label(param_data):\n",
        "  id = np.random.randint(param_data.shape[0])\n",
        "  print(ids_dict[param_data[id, 0]])\n",
        "  imgplot = plt.imshow(param_data[id, 1:].reshape(32, 32), cmap=\"gray\")\n",
        "  return id"
      ],
      "execution_count": null,
      "outputs": []
    },
    {
      "cell_type": "code",
      "metadata": {
        "id": "HbnkM-3PzOkN",
        "colab_type": "code",
        "colab": {}
      },
      "source": [
        "plot_random_examples(data)"
      ],
      "execution_count": null,
      "outputs": []
    },
    {
      "cell_type": "code",
      "metadata": {
        "id": "gIr1VrKU1fzJ",
        "colab_type": "code",
        "colab": {}
      },
      "source": [
        "plot_random_example_with_label(data)"
      ],
      "execution_count": null,
      "outputs": []
    },
    {
      "cell_type": "code",
      "metadata": {
        "id": "GBPAloaLNVwG",
        "colab_type": "code",
        "colab": {}
      },
      "source": [
        "print(\"Dataset distribution per class:\")\n",
        "for i in range(26):\n",
        "  print(\"id={}{}\".format(ids_dict[i].ljust(30), data[data[:, 0] == i].shape[0]))"
      ],
      "execution_count": null,
      "outputs": []
    },
    {
      "cell_type": "markdown",
      "metadata": {
        "id": "ColP7-W3T8jk",
        "colab_type": "text"
      },
      "source": [
        "# Split data to train_data and test_data"
      ]
    },
    {
      "cell_type": "code",
      "metadata": {
        "id": "EJS_Ug5AMtuH",
        "colab_type": "code",
        "colab": {}
      },
      "source": [
        "np.random.shuffle(data)\n",
        "\n",
        "szt = 10 # size of test data per category, rest is for train data\n",
        "\n",
        "test_data = np.zeros(shape=(26*szt, 1025), dtype=np.uint8)\n",
        "original_train_data = np.zeros(shape=(0, 1025), dtype=np.uint8)\n",
        "\n",
        "for i in range(26):\n",
        "  test_data[szt*i:szt*(i+1), :] = data[data[:, 0]==i, :][0:szt, :]\n",
        "  original_train_data = np.vstack((original_train_data,data[data[:, 0]==i, :][szt:, :]))"
      ],
      "execution_count": null,
      "outputs": []
    },
    {
      "cell_type": "code",
      "metadata": {
        "id": "LEV3VBL4Urc_",
        "colab_type": "code",
        "colab": {}
      },
      "source": [
        "np.random.shuffle(test_data)\n",
        "np.random.shuffle(original_train_data)"
      ],
      "execution_count": null,
      "outputs": []
    },
    {
      "cell_type": "code",
      "metadata": {
        "id": "gIV9rSlzONi5",
        "colab_type": "code",
        "colab": {}
      },
      "source": [
        "print(original_train_data.shape)\n",
        "print(test_data.shape)"
      ],
      "execution_count": null,
      "outputs": []
    },
    {
      "cell_type": "markdown",
      "metadata": {
        "id": "ohQs7REKXDO4",
        "colab_type": "text"
      },
      "source": [
        "# Data Augmentation"
      ]
    },
    {
      "cell_type": "code",
      "metadata": {
        "id": "OsyDQk-RXMbM",
        "colab_type": "code",
        "colab": {}
      },
      "source": [
        "number_of_examples = {}\n",
        "print(\"Train distribution per class:\")\n",
        "for i in range(26):\n",
        "  number_of_examples[i] = original_train_data[original_train_data[:, 0] == i].shape[0]\n",
        "  print(\"id={}\\t{}\".format(ids_dict[i].ljust(30), original_train_data[original_train_data[:, 0] == i].shape[0]))"
      ],
      "execution_count": null,
      "outputs": []
    },
    {
      "cell_type": "code",
      "metadata": {
        "id": "_WwB55JVX0vp",
        "colab_type": "code",
        "colab": {}
      },
      "source": [
        "import tensorflow as tf\n",
        "\n",
        "from tensorflow.keras.preprocessing.image import ImageDataGenerator\n",
        "\n",
        "datagen = ImageDataGenerator(\n",
        "  rotation_range=2,\n",
        "  width_shift_range=0.1,\n",
        "  height_shift_range=0.1,\n",
        "  shear_range=0.02,\n",
        "  zoom_range=0.05,\n",
        "  fill_mode=\"nearest\"\n",
        ")"
      ],
      "execution_count": null,
      "outputs": []
    },
    {
      "cell_type": "code",
      "metadata": {
        "id": "0ApTzBnDlMaC",
        "colab_type": "code",
        "colab": {}
      },
      "source": [
        "sz = 300 # new size per category\n",
        "\n",
        "new_train_data = np.zeros(shape=(26 * sz, 1025), dtype=np.uint8)\n",
        "\n",
        "for i in range(26):\n",
        "  square_data = np.zeros(shape=(sz, 1025), dtype=np.uint8)\n",
        "  square_data[:, 0] = i\n",
        "  if sz <= number_of_examples[i]:\n",
        "    square_data[0: sz, :] = original_train_data[original_train_data[:, 0] == i][0:sz]\n",
        "  else:\n",
        "    square_data[0: number_of_examples[i], :] = original_train_data[original_train_data[:, 0] == i]\n",
        "\n",
        "    new_example = number_of_examples[i]\n",
        "    random_example = np.random.randint(number_of_examples[i])\n",
        "\n",
        "    for batch in datagen.flow(square_data[random_example, 1:].reshape(1, 32, 32, 1), batch_size=1):\n",
        "      square_data[new_example, 1:1025] = batch[0].reshape((1, 1024))\n",
        "      new_example += 1\n",
        "      if new_example == sz:\n",
        "        break\n",
        "      random_example = np.random.randint(number_of_examples[i])\n",
        "\n",
        "  new_train_data[sz*i : (sz*(i+1)), :] = square_data\n",
        "\n",
        "\n",
        "################################################################################\n",
        "print(\"New train distribution per class:\")\n",
        "for i in range(26):\n",
        "  print(\"id={}\\t{}\".format(ids_dict[i].ljust(30), new_train_data[new_train_data[:, 0] == i].shape[0]))"
      ],
      "execution_count": null,
      "outputs": []
    },
    {
      "cell_type": "code",
      "metadata": {
        "id": "Esrgsd4rvpui",
        "colab_type": "code",
        "colab": {}
      },
      "source": [
        "np.random.shuffle(new_train_data)\n",
        "train_data = new_train_data"
      ],
      "execution_count": null,
      "outputs": []
    },
    {
      "cell_type": "code",
      "metadata": {
        "id": "Wt1OfQFevzEp",
        "colab_type": "code",
        "colab": {}
      },
      "source": [
        "plot_random_examples(train_data)"
      ],
      "execution_count": null,
      "outputs": []
    },
    {
      "cell_type": "code",
      "metadata": {
        "id": "KEYdxZ0R2Bu6",
        "colab_type": "code",
        "colab": {}
      },
      "source": [
        "plot_random_example_with_label(train_data)"
      ],
      "execution_count": null,
      "outputs": []
    },
    {
      "cell_type": "markdown",
      "metadata": {
        "id": "vjxrLGLagVX1",
        "colab_type": "text"
      },
      "source": [
        "# Train model"
      ]
    },
    {
      "cell_type": "code",
      "metadata": {
        "id": "1RSeUUidr0wi",
        "colab_type": "code",
        "colab": {}
      },
      "source": [
        "# Split train_data to train_data_black and train_data_white\n",
        "\n",
        "train_data_black = np.zeros(shape=(13*sz, 1025), dtype=np.uint8)\n",
        "train_data_white =  np.zeros(shape=(13*sz, 1025), dtype=np.uint8)\n",
        "\n",
        "for i in range(13):\n",
        "  train_data_black[sz*i:sz*(i+1), :] = train_data[train_data[:,0]==i, :][0:sz, :]\n",
        "\n",
        "for i in range(13):\n",
        "  train_data_white[sz*i:sz*(i+1), :] = train_data[train_data[:,0]==i+13, :][0:sz, :]\n",
        "\n",
        "train_data_white[:, 0] -= 13\n",
        "\n",
        "print(train_data_black.shape)\n",
        "\n",
        "print(train_data_white.shape)"
      ],
      "execution_count": null,
      "outputs": []
    },
    {
      "cell_type": "code",
      "metadata": {
        "id": "Rnv7kTgtw4zi",
        "colab_type": "code",
        "colab": {}
      },
      "source": [
        "plot_random_example_with_label(train_data_black)"
      ],
      "execution_count": null,
      "outputs": []
    },
    {
      "cell_type": "code",
      "metadata": {
        "id": "QLYAVDsstMd-",
        "colab_type": "code",
        "colab": {}
      },
      "source": [
        "# Split test_data to test_data_black and test_data_white\n",
        "\n",
        "test_data_black = test_data[test_data[:, 0] <= 12]\n",
        "test_data_white = test_data[test_data[:, 0] >= 13]\n",
        "test_data_white[:, 0] -= 13\n",
        "\n",
        "print(test_data_black.shape)\n",
        "print(test_data_white.shape)"
      ],
      "execution_count": null,
      "outputs": []
    },
    {
      "cell_type": "code",
      "metadata": {
        "id": "8CavMVzhw8NI",
        "colab_type": "code",
        "colab": {}
      },
      "source": [
        "plot_random_example_with_label(test_data_black)"
      ],
      "execution_count": null,
      "outputs": []
    },
    {
      "cell_type": "code",
      "metadata": {
        "id": "Hr-Ojq7P1R_Y",
        "colab_type": "code",
        "colab": {}
      },
      "source": [
        "import tensorflow as tf\n",
        "from tensorflow import keras\n",
        "from tensorflow.keras import models\n",
        "from tensorflow.keras import layers\n",
        "from tensorflow.keras import optimizers\n",
        "from tensorflow.keras import regularizers\n",
        "\n",
        "num_classes = 13\n",
        "input_shape = (32, 32, 1)\n",
        "\n",
        "black_model = keras.Sequential(\n",
        "    [\n",
        "        keras.Input(shape=input_shape),\n",
        "        layers.Conv2D(32, kernel_size=(3, 3), activation=\"relu\"),\n",
        "        layers.MaxPooling2D(pool_size=(2, 2)),\n",
        "        layers.Conv2D(64, kernel_size=(3, 3), activation=\"relu\"),\n",
        "        layers.MaxPooling2D(pool_size=(2, 2)),\n",
        "        layers.Conv2D(128, kernel_size=(3, 3), activation=\"relu\"),\n",
        "        layers.MaxPooling2D(pool_size=(2, 2)),\n",
        "        layers.Flatten(),\n",
        "        layers.Dropout(0.5),\n",
        "        layers.Dense(512, activation=\"relu\"),\n",
        "        layers.Dense(num_classes, activation=\"softmax\"),\n",
        "    ]\n",
        ")\n",
        "\n",
        "black_model.summary()\n",
        "\n",
        "white_model = models.clone_model(black_model)"
      ],
      "execution_count": null,
      "outputs": []
    },
    {
      "cell_type": "code",
      "metadata": {
        "id": "k3j12BzxtpBE",
        "colab_type": "code",
        "colab": {}
      },
      "source": [
        "train_images_black = train_data_black[:, 1:]\n",
        "train_images_white = train_data_white[:, 1:]\n",
        "train_labels_black = train_data_black[:, 0]\n",
        "train_labels_white = train_data_white[:, 0]"
      ],
      "execution_count": null,
      "outputs": []
    },
    {
      "cell_type": "code",
      "metadata": {
        "id": "hU3Udl5xve9U",
        "colab_type": "code",
        "colab": {}
      },
      "source": [
        "test_images_black = test_data_black[:, 1:]\n",
        "test_images_white = test_data_white[:, 1:]\n",
        "test_labels_black = test_data_black[:, 0]\n",
        "test_labels_white = test_data_white[:, 0]"
      ],
      "execution_count": null,
      "outputs": []
    },
    {
      "cell_type": "code",
      "metadata": {
        "id": "Z09MiCIb35wB",
        "colab_type": "code",
        "colab": {}
      },
      "source": [
        "train_images_black = train_images_black.reshape(-1, 32, 32) # Only for CovNet\n",
        "train_images_white = train_images_white.reshape(-1, 32, 32) # Only for CovNet\n",
        "test_images_black = test_images_black.reshape(-1, 32, 32) # Only for CovNet\n",
        "test_images_white = test_images_white.reshape(-1, 32, 32) # Only for CovNet\n",
        "train_images_black = train_images_black.astype(\"float32\") / 255.0\n",
        "train_images_white = train_images_white.astype(\"float32\") / 255.0\n",
        "test_images_black = test_images_black.astype(\"float32\") / 255.0\n",
        "test_images_white = test_images_white.astype(\"float32\") / 255.0\n",
        "train_images_black = np.expand_dims(train_images_black, -1) # Only for CovNet\n",
        "train_images_white = np.expand_dims(train_images_white, -1) # Only for CovNet\n",
        "test_images_black = np.expand_dims(test_images_black, -1) # Only for CovNet\n",
        "test_images_white = np.expand_dims(test_images_white, -1) # Only for CovNet\n",
        "print(train_images_black.shape)"
      ],
      "execution_count": null,
      "outputs": []
    },
    {
      "cell_type": "code",
      "metadata": {
        "id": "eyph7wNn4UlQ",
        "colab_type": "code",
        "colab": {}
      },
      "source": [
        "from keras.utils import to_categorical\n",
        "\n",
        "train_labels_black = to_categorical(train_labels_black, num_classes)\n",
        "train_labels_white = to_categorical(train_labels_white, num_classes)\n",
        "test_labels_black = to_categorical(test_labels_black, num_classes)\n",
        "test_labels_white = to_categorical(test_labels_white, num_classes)"
      ],
      "execution_count": null,
      "outputs": []
    },
    {
      "cell_type": "code",
      "metadata": {
        "id": "KKpdDms2lVj6",
        "colab_type": "code",
        "colab": {}
      },
      "source": [
        "batch_size = 128\n",
        "epochs = 20\n",
        "\n",
        "black_model.compile(loss=\"categorical_crossentropy\", optimizer=\"adam\", metrics=[\"accuracy\"])\n",
        "white_model.compile(loss=\"categorical_crossentropy\", optimizer=\"adam\", metrics=[\"accuracy\"])\n",
        "\n",
        "black_model.fit(train_images_black, train_labels_black, batch_size=batch_size, epochs=epochs)\n",
        "white_model.fit(train_images_white, train_labels_white, batch_size=batch_size, epochs=epochs)"
      ],
      "execution_count": null,
      "outputs": []
    },
    {
      "cell_type": "code",
      "metadata": {
        "id": "aaUXSgAb1tac",
        "colab_type": "code",
        "colab": {}
      },
      "source": [
        "train_loss_black, train_acc_black = black_model.evaluate(train_images_black, train_labels_black, verbose=0)\n",
        "train_loss_white, train_acc_white = white_model.evaluate(train_images_white, train_labels_white, verbose=0)"
      ],
      "execution_count": null,
      "outputs": []
    },
    {
      "cell_type": "code",
      "metadata": {
        "id": "jXP1phUT19W0",
        "colab_type": "code",
        "colab": {}
      },
      "source": [
        "print(\"Black:\\n\\ttest_acc:\", train_acc_black)\n",
        "print(\"White:\\n\\ttest_acc:\", train_acc_white)"
      ],
      "execution_count": null,
      "outputs": []
    },
    {
      "cell_type": "code",
      "metadata": {
        "id": "OEAa1U594vs8",
        "colab_type": "code",
        "colab": {}
      },
      "source": [
        "test_loss_black, test_acc_black = black_model.evaluate(test_images_black, test_labels_black, verbose=0)\n",
        "test_loss_white, test_acc_white = white_model.evaluate(test_images_white, test_labels_white, verbose=0)"
      ],
      "execution_count": null,
      "outputs": []
    },
    {
      "cell_type": "code",
      "metadata": {
        "id": "8urhn9iW7Y5D",
        "colab_type": "code",
        "colab": {}
      },
      "source": [
        "print(\"Black:\\n\\ttest_acc:\", test_acc_black)\n",
        "print(\"White:\\n\\ttest_acc:\", test_acc_white)"
      ],
      "execution_count": null,
      "outputs": []
    },
    {
      "cell_type": "code",
      "metadata": {
        "id": "8iULSaOIv7hy",
        "colab_type": "code",
        "colab": {}
      },
      "source": [
        "print(test_images_black.shape)\n",
        "y_prob = black_model.predict(test_images_black)\n",
        "y_classes = y_prob.argmax(axis=-1)\n",
        "id = plot_random_example_with_label(np.hstack((y_classes.reshape(-1, 1), test_images_black.reshape(-1, 1024))))\n",
        "print(\"Predicted label:\", ids_dict[y_classes[id]])"
      ],
      "execution_count": null,
      "outputs": []
    },
    {
      "cell_type": "code",
      "metadata": {
        "id": "FwUjYzjihsaS",
        "colab_type": "code",
        "colab": {}
      },
      "source": [
        "black_model.save(\"black_model.h5\")\n",
        "white_model.save(\"white_model.h5\")"
      ],
      "execution_count": null,
      "outputs": []
    }
  ]
}